{
 "cells": [
  {
   "cell_type": "markdown",
   "metadata": {},
   "source": [
    "---\n",
    "\n",
    "# 3.4 Newton's method and variants\n",
    "---"
   ]
  },
  {
   "cell_type": "markdown",
   "metadata": {},
   "source": [
    "Let \n",
    "\n",
    "$$f \\in C^2[a,b].$$ \n",
    "\n",
    "That is, $f$ is a **twice-continuously differentiable** function over $[a,b]$, which means that the **first** and **second** derivatives of $f$ **exist** and are **continuous** on the open interval $(a,b)$. **Newton's method** is defined as:\n",
    "\n",
    "$$ x_{k+1} = x_k - \\frac{f(x_k)}{f'(x_k)}, \\quad k = 0, 1, 2, \\ldots.$$\n",
    "\n",
    "This is the fixed point iteration using the function $g(x) = x - f(x)\\big/f'(x)$.\n",
    "\n",
    "We have already seen above that this iteration can converge very fast. This is why Newton's method is one of the most popular methods for root finding."
   ]
  },
  {
   "cell_type": "markdown",
   "metadata": {},
   "source": [
    "## Formulating Newton's method\n",
    "\n",
    "Suppose that $f(x^*) = 0$ and that we are at the iterate $x_k$. By the **Taylor Series Theorem**, we have\n",
    "\n",
    "$$\n",
    "f(x^*) = f(x_k) + f'(x_k)(x^* - x_k) + \\frac{f''(\\xi)}{2}(x^* - x_k)^2,\n",
    "$$\n",
    "\n",
    "for some point $\\xi$ between $x^*$ and $x_k$. If $x_k$ is already fairly close to $x^*$, then $(x^* - x_k)^2$ will be very small, so we have\n",
    "\n",
    "$$0 \\approx f(x_k) + f'(x_k)(x^* - x_k).$$\n",
    "\n",
    "Solving for $x^*$, we obtain\n",
    "\n",
    "$$x^* \\approx x_k - \\frac{f(x_k)}{f'(x_k)}.$$\n",
    "\n",
    "Therefore, it makes sense to define our next iterate $x_{k+1}$ using this approximation."
   ]
  },
  {
   "cell_type": "markdown",
   "metadata": {},
   "source": [
    "## Another formulation\n",
    "\n",
    "Another way to obtain Newton's method is as follows. Consider the **first-order (linear) approximation** of $f$ around the point $x_k$:\n",
    "\n",
    "$$f(x) \\approx f(x_k) + f'(x_k)(x - x_k), \\quad \\text{for all $x \\approx x_k$}.$$\n",
    "\n",
    "Suppose that $x_k$ is close to $x^*$, and that $f(x^*) = 0$. Then\n",
    "\n",
    "$$f(x^*) \\approx f(x_k) + f'(x_k)(x^* - x_k),$$\n",
    "\n",
    "which implies that\n",
    "\n",
    "$$x^* \\approx x_k - \\frac{f(x_k)}{f'(x_k)}.$$\n",
    "\n",
    "Therefore, our next iterate should be \n",
    "\n",
    "$$x_{k+1} = x_k - \\frac{f(x_k)}{f'(x_k)}.$$"
   ]
  },
  {
   "cell_type": "markdown",
   "metadata": {},
   "source": [
    "---"
   ]
  },
  {
   "cell_type": "markdown",
   "metadata": {},
   "source": [
    "## An implementation of Newton's Method: `plotnewton`"
   ]
  },
  {
   "cell_type": "code",
   "execution_count": 2,
   "metadata": {},
   "outputs": [
    {
     "data": {
      "text/plain": [
       "plotnewton (generic function with 1 method)"
      ]
     },
     "execution_count": 2,
     "metadata": {},
     "output_type": "execute_result"
    }
   ],
   "source": [
    "using Plots, Printf\n",
    "\n",
    "function plotnewton(f, fp, x0, a, b; tol=1e-6, maxiter=10)\n",
    "    \n",
    "    plt = plot(f, a, b, color=:blue, label=:none)\n",
    "    hline!([0], color=:black, label=:none)\n",
    "    \n",
    "    k = 0\n",
    "    x = x0\n",
    "    fx = f(x)\n",
    "    xold, xnew = x, Inf\n",
    "    @printf \"%4s %22s %22s\\n\" \"k\" \"x\" \"f(x)\"\n",
    "    while abs(xnew - xold) > tol*(1 + abs(xold)) && k < maxiter\n",
    "        k += 1\n",
    "        xnew = x - fx/fp(x)\n",
    "        \n",
    "        # Plotting stuff\n",
    "        plot!([x, x], [0, fx], ls=:dot, c=:black, label=:none)\n",
    "        plot!([xnew, x], [0, fx], c=:red, label=:none)\n",
    "        scatter!([x], [fx], c=:blue, label=:none)\n",
    "        \n",
    "        xold = x\n",
    "        x = xnew\n",
    "        fx = f(x)\n",
    "        @printf \"%4d %22.15e %22.15e\\n\" k x fx\n",
    "    end\n",
    "    flush(stdout)\n",
    "    display(plt)\n",
    "    \n",
    "    return x\n",
    "    \n",
    "end"
   ]
  },
  {
   "cell_type": "markdown",
   "metadata": {},
   "source": [
    "---"
   ]
  },
  {
   "cell_type": "markdown",
   "metadata": {},
   "source": [
    "## Example\n",
    "\n",
    "Let's see how Newton's method works on $f(x) = \\sin(x)$."
   ]
  },
  {
   "cell_type": "code",
   "execution_count": null,
   "metadata": {},
   "outputs": [],
   "source": [
    "x = plotnewton(sin, cos, 4.3, 0, 2π)"
   ]
  },
  {
   "cell_type": "code",
   "execution_count": null,
   "metadata": {},
   "outputs": [],
   "source": [
    "π"
   ]
  },
  {
   "cell_type": "markdown",
   "metadata": {},
   "source": [
    "---"
   ]
  },
  {
   "cell_type": "markdown",
   "metadata": {},
   "source": [
    "## Example\n",
    "\n",
    "Let's use the above code to plot Newton's method using \n",
    "\n",
    "$$f(x) = 2\\cosh(x/4) - x,$$\n",
    "\n",
    "which has two roots,\n",
    "\n",
    "$$x_1^* \\approx 2.3575510538774020 \\qquad \\text{and} \\qquad x_2^* \\approx 8.5071995707130270.$$\n",
    "\n",
    "Which root do you converge to starting at $x_0 = 2, 4, 8, 10$?"
   ]
  },
  {
   "cell_type": "code",
   "execution_count": null,
   "metadata": {},
   "outputs": [],
   "source": [
    "xbad = 4asinh(2.)"
   ]
  },
  {
   "cell_type": "code",
   "execution_count": 3,
   "metadata": {},
   "outputs": [
    {
     "name": "stdout",
     "output_type": "stream",
     "text": [
      "   k                      x                   f(x)\n",
      "   1  1.784092985278010e+00  4.181636839433827e-01\n",
      "   2  2.327501256609981e+00  2.073906496874844e-02\n",
      "   3  2.357455221476909e+00  6.592815683026387e-05\n",
      "   4  2.357551052893914e+00  6.765863425073348e-10\n",
      "   5  2.357551053877402e+00  4.440892098500626e-16\n"
     ]
    },
    {
     "data": {
      "image/svg+xml": [
       "<?xml version=\"1.0\" encoding=\"utf-8\"?>\n",
       "<svg xmlns=\"http://www.w3.org/2000/svg\" xmlns:xlink=\"http://www.w3.org/1999/xlink\" width=\"600\" height=\"400\" viewBox=\"0 0 2400 1600\">\n",
       "<defs>\n",
       "  <clipPath id=\"clip200\">\n",
       "    <rect x=\"0\" y=\"0\" width=\"2400\" height=\"1600\"/>\n",
       "  </clipPath>\n",
       "</defs>\n",
       "<path clip-path=\"url(#clip200)\" d=\"\n",
       "M0 1600 L2400 1600 L2400 0 L0 0  Z\n",
       "  \" fill=\"#ffffff\" fill-rule=\"evenodd\" fill-opacity=\"1\"/>\n",
       "<defs>\n",
       "  <clipPath id=\"clip201\">\n",
       "    <rect x=\"480\" y=\"0\" width=\"1681\" height=\"1600\"/>\n",
       "  </clipPath>\n",
       "</defs>\n",
       "<path clip-path=\"url(#clip200)\" d=\"\n",
       "M179.654 1486.45 L2352.76 1486.45 L2352.76 47.2441 L179.654 47.2441  Z\n",
       "  \" fill=\"#ffffff\" fill-rule=\"evenodd\" fill-opacity=\"1\"/>\n",
       "<defs>\n",
       "  <clipPath id=\"clip202\">\n",
       "    <rect x=\"179\" y=\"47\" width=\"2174\" height=\"1440\"/>\n",
       "  </clipPath>\n",
       "</defs>\n",
       "<polyline clip-path=\"url(#clip202)\" style=\"stroke:#000000; stroke-width:2; stroke-opacity:0.1; fill:none\" points=\"\n",
       "  497.419,1486.45 497.419,47.2441 \n",
       "  \"/>\n",
       "<polyline clip-path=\"url(#clip202)\" style=\"stroke:#000000; stroke-width:2; stroke-opacity:0.1; fill:none\" points=\"\n",
       "  1009.94,1486.45 1009.94,47.2441 \n",
       "  \"/>\n",
       "<polyline clip-path=\"url(#clip202)\" style=\"stroke:#000000; stroke-width:2; stroke-opacity:0.1; fill:none\" points=\"\n",
       "  1522.47,1486.45 1522.47,47.2441 \n",
       "  \"/>\n",
       "<polyline clip-path=\"url(#clip202)\" style=\"stroke:#000000; stroke-width:2; stroke-opacity:0.1; fill:none\" points=\"\n",
       "  2034.99,1486.45 2034.99,47.2441 \n",
       "  \"/>\n",
       "<polyline clip-path=\"url(#clip200)\" style=\"stroke:#000000; stroke-width:4; stroke-opacity:1; fill:none\" points=\"\n",
       "  179.654,1486.45 2352.76,1486.45 \n",
       "  \"/>\n",
       "<polyline clip-path=\"url(#clip200)\" style=\"stroke:#000000; stroke-width:4; stroke-opacity:1; fill:none\" points=\"\n",
       "  497.419,1486.45 497.419,1469.18 \n",
       "  \"/>\n",
       "<polyline clip-path=\"url(#clip200)\" style=\"stroke:#000000; stroke-width:4; stroke-opacity:1; fill:none\" points=\"\n",
       "  1009.94,1486.45 1009.94,1469.18 \n",
       "  \"/>\n",
       "<polyline clip-path=\"url(#clip200)\" style=\"stroke:#000000; stroke-width:4; stroke-opacity:1; fill:none\" points=\"\n",
       "  1522.47,1486.45 1522.47,1469.18 \n",
       "  \"/>\n",
       "<polyline clip-path=\"url(#clip200)\" style=\"stroke:#000000; stroke-width:4; stroke-opacity:1; fill:none\" points=\"\n",
       "  2034.99,1486.45 2034.99,1469.18 \n",
       "  \"/>\n",
       "<path clip-path=\"url(#clip200)\" d=\"M 0 0 M492.071 1543.18 L508.391 1543.18 L508.391 1547.12 L486.446 1547.12 L486.446 1543.18 Q489.108 1540.43 493.692 1535.8 Q498.298 1531.15 499.479 1529.81 Q501.724 1527.28 502.604 1525.55 Q503.507 1523.79 503.507 1522.1 Q503.507 1519.34 501.562 1517.61 Q499.641 1515.87 496.539 1515.87 Q494.34 1515.87 491.886 1516.63 Q489.456 1517.4 486.678 1518.95 L486.678 1514.23 Q489.502 1513.09 491.956 1512.51 Q494.409 1511.93 496.446 1511.93 Q501.817 1511.93 505.011 1514.62 Q508.206 1517.31 508.206 1521.8 Q508.206 1523.93 507.395 1525.85 Q506.608 1527.74 504.502 1530.34 Q503.923 1531.01 500.821 1534.23 Q497.72 1537.42 492.071 1543.18 Z\" fill=\"#000000\" fill-rule=\"evenodd\" fill-opacity=\"1\" /><path clip-path=\"url(#clip200)\" d=\"M 0 0 M1012.95 1516.63 L1001.15 1535.08 L1012.95 1535.08 L1012.95 1516.63 M1011.73 1512.56 L1017.6 1512.56 L1017.6 1535.08 L1022.54 1535.08 L1022.54 1538.97 L1017.6 1538.97 L1017.6 1547.12 L1012.95 1547.12 L1012.95 1538.97 L997.35 1538.97 L997.35 1534.46 L1011.73 1512.56 Z\" fill=\"#000000\" fill-rule=\"evenodd\" fill-opacity=\"1\" /><path clip-path=\"url(#clip200)\" d=\"M 0 0 M1522.87 1527.98 Q1519.72 1527.98 1517.87 1530.13 Q1516.04 1532.28 1516.04 1536.03 Q1516.04 1539.76 1517.87 1541.93 Q1519.72 1544.09 1522.87 1544.09 Q1526.02 1544.09 1527.85 1541.93 Q1529.7 1539.76 1529.7 1536.03 Q1529.7 1532.28 1527.85 1530.13 Q1526.02 1527.98 1522.87 1527.98 M1532.15 1513.32 L1532.15 1517.58 Q1530.4 1516.75 1528.59 1516.31 Q1526.81 1515.87 1525.05 1515.87 Q1520.42 1515.87 1517.96 1519 Q1515.53 1522.12 1515.19 1528.44 Q1516.55 1526.43 1518.61 1525.36 Q1520.67 1524.27 1523.15 1524.27 Q1528.36 1524.27 1531.37 1527.44 Q1534.4 1530.59 1534.4 1536.03 Q1534.4 1541.36 1531.25 1544.57 Q1528.1 1547.79 1522.87 1547.79 Q1516.88 1547.79 1513.71 1543.21 Q1510.53 1538.6 1510.53 1529.87 Q1510.53 1521.68 1514.42 1516.82 Q1518.31 1511.93 1524.86 1511.93 Q1526.62 1511.93 1528.4 1512.28 Q1530.21 1512.63 1532.15 1513.32 Z\" fill=\"#000000\" fill-rule=\"evenodd\" fill-opacity=\"1\" /><path clip-path=\"url(#clip200)\" d=\"M 0 0 M2034.99 1530.71 Q2031.66 1530.71 2029.74 1532.49 Q2027.84 1534.27 2027.84 1537.4 Q2027.84 1540.52 2029.74 1542.31 Q2031.66 1544.09 2034.99 1544.09 Q2038.32 1544.09 2040.25 1542.31 Q2042.17 1540.5 2042.17 1537.4 Q2042.17 1534.27 2040.25 1532.49 Q2038.35 1530.71 2034.99 1530.71 M2030.32 1528.72 Q2027.31 1527.98 2025.62 1525.92 Q2023.95 1523.86 2023.95 1520.89 Q2023.95 1516.75 2026.89 1514.34 Q2029.85 1511.93 2034.99 1511.93 Q2040.15 1511.93 2043.09 1514.34 Q2046.03 1516.75 2046.03 1520.89 Q2046.03 1523.86 2044.34 1525.92 Q2042.68 1527.98 2039.69 1528.72 Q2043.07 1529.5 2044.94 1531.8 Q2046.84 1534.09 2046.84 1537.4 Q2046.84 1542.42 2043.76 1545.11 Q2040.71 1547.79 2034.99 1547.79 Q2029.27 1547.79 2026.19 1545.11 Q2023.14 1542.42 2023.14 1537.4 Q2023.14 1534.09 2025.04 1531.8 Q2026.94 1529.5 2030.32 1528.72 M2028.6 1521.33 Q2028.6 1524.02 2030.27 1525.52 Q2031.96 1527.03 2034.99 1527.03 Q2038 1527.03 2039.69 1525.52 Q2041.4 1524.02 2041.4 1521.33 Q2041.4 1518.65 2039.69 1517.14 Q2038 1515.64 2034.99 1515.64 Q2031.96 1515.64 2030.27 1517.14 Q2028.6 1518.65 2028.6 1521.33 Z\" fill=\"#000000\" fill-rule=\"evenodd\" fill-opacity=\"1\" /><polyline clip-path=\"url(#clip202)\" style=\"stroke:#000000; stroke-width:2; stroke-opacity:0.1; fill:none\" points=\"\n",
       "  179.654,1272.14 2352.76,1272.14 \n",
       "  \"/>\n",
       "<polyline clip-path=\"url(#clip202)\" style=\"stroke:#000000; stroke-width:2; stroke-opacity:0.1; fill:none\" points=\"\n",
       "  179.654,985.116 2352.76,985.116 \n",
       "  \"/>\n",
       "<polyline clip-path=\"url(#clip202)\" style=\"stroke:#000000; stroke-width:2; stroke-opacity:0.1; fill:none\" points=\"\n",
       "  179.654,698.091 2352.76,698.091 \n",
       "  \"/>\n",
       "<polyline clip-path=\"url(#clip202)\" style=\"stroke:#000000; stroke-width:2; stroke-opacity:0.1; fill:none\" points=\"\n",
       "  179.654,411.066 2352.76,411.066 \n",
       "  \"/>\n",
       "<polyline clip-path=\"url(#clip202)\" style=\"stroke:#000000; stroke-width:2; stroke-opacity:0.1; fill:none\" points=\"\n",
       "  179.654,124.042 2352.76,124.042 \n",
       "  \"/>\n",
       "<polyline clip-path=\"url(#clip200)\" style=\"stroke:#000000; stroke-width:4; stroke-opacity:1; fill:none\" points=\"\n",
       "  179.654,1486.45 179.654,47.2441 \n",
       "  \"/>\n",
       "<polyline clip-path=\"url(#clip200)\" style=\"stroke:#000000; stroke-width:4; stroke-opacity:1; fill:none\" points=\"\n",
       "  179.654,1272.14 205.731,1272.14 \n",
       "  \"/>\n",
       "<polyline clip-path=\"url(#clip200)\" style=\"stroke:#000000; stroke-width:4; stroke-opacity:1; fill:none\" points=\"\n",
       "  179.654,985.116 205.731,985.116 \n",
       "  \"/>\n",
       "<polyline clip-path=\"url(#clip200)\" style=\"stroke:#000000; stroke-width:4; stroke-opacity:1; fill:none\" points=\"\n",
       "  179.654,698.091 205.731,698.091 \n",
       "  \"/>\n",
       "<polyline clip-path=\"url(#clip200)\" style=\"stroke:#000000; stroke-width:4; stroke-opacity:1; fill:none\" points=\"\n",
       "  179.654,411.066 205.731,411.066 \n",
       "  \"/>\n",
       "<polyline clip-path=\"url(#clip200)\" style=\"stroke:#000000; stroke-width:4; stroke-opacity:1; fill:none\" points=\"\n",
       "  179.654,124.042 205.731,124.042 \n",
       "  \"/>\n",
       "<path clip-path=\"url(#clip200)\" d=\"M 0 0 M51.2236 1272.59 L80.8994 1272.59 L80.8994 1276.53 L51.2236 1276.53 L51.2236 1272.59 Z\" fill=\"#000000\" fill-rule=\"evenodd\" fill-opacity=\"1\" /><path clip-path=\"url(#clip200)\" d=\"M 0 0 M86.779 1285.49 L94.4178 1285.49 L94.4178 1259.12 L86.1077 1260.79 L86.1077 1256.53 L94.3715 1254.86 L99.0474 1254.86 L99.0474 1285.49 L106.686 1285.49 L106.686 1289.42 L86.779 1289.42 L86.779 1285.49 Z\" fill=\"#000000\" fill-rule=\"evenodd\" fill-opacity=\"1\" /><path clip-path=\"url(#clip200)\" d=\"M 0 0 M111.756 1283.54 L116.64 1283.54 L116.64 1289.42 L111.756 1289.42 L111.756 1283.54 Z\" fill=\"#000000\" fill-rule=\"evenodd\" fill-opacity=\"1\" /><path clip-path=\"url(#clip200)\" d=\"M 0 0 M131.709 1257.94 Q128.098 1257.94 126.27 1261.5 Q124.464 1265.05 124.464 1272.18 Q124.464 1279.28 126.27 1282.85 Q128.098 1286.39 131.709 1286.39 Q135.344 1286.39 137.149 1282.85 Q138.978 1279.28 138.978 1272.18 Q138.978 1265.05 137.149 1261.5 Q135.344 1257.94 131.709 1257.94 M131.709 1254.24 Q137.519 1254.24 140.575 1258.84 Q143.654 1263.43 143.654 1272.18 Q143.654 1280.9 140.575 1285.51 Q137.519 1290.09 131.709 1290.09 Q125.899 1290.09 122.82 1285.51 Q119.765 1280.9 119.765 1272.18 Q119.765 1263.43 122.82 1258.84 Q125.899 1254.24 131.709 1254.24 Z\" fill=\"#000000\" fill-rule=\"evenodd\" fill-opacity=\"1\" /><path clip-path=\"url(#clip200)\" d=\"M 0 0 M50.9921 985.567 L80.6679 985.567 L80.6679 989.502 L50.9921 989.502 L50.9921 985.567 Z\" fill=\"#000000\" fill-rule=\"evenodd\" fill-opacity=\"1\" /><path clip-path=\"url(#clip200)\" d=\"M 0 0 M95.7373 970.914 Q92.1262 970.914 90.2975 974.479 Q88.4919 978.021 88.4919 985.151 Q88.4919 992.257 90.2975 995.822 Q92.1262 999.363 95.7373 999.363 Q99.3715 999.363 101.177 995.822 Q103.006 992.257 103.006 985.151 Q103.006 978.021 101.177 974.479 Q99.3715 970.914 95.7373 970.914 M95.7373 967.211 Q101.547 967.211 104.603 971.817 Q107.682 976.401 107.682 985.151 Q107.682 993.877 104.603 998.484 Q101.547 1003.07 95.7373 1003.07 Q89.9271 1003.07 86.8484 998.484 Q83.7929 993.877 83.7929 985.151 Q83.7929 976.401 86.8484 971.817 Q89.9271 967.211 95.7373 967.211 Z\" fill=\"#000000\" fill-rule=\"evenodd\" fill-opacity=\"1\" /><path clip-path=\"url(#clip200)\" d=\"M 0 0 M112.751 996.516 L117.635 996.516 L117.635 1002.4 L112.751 1002.4 L112.751 996.516 Z\" fill=\"#000000\" fill-rule=\"evenodd\" fill-opacity=\"1\" /><path clip-path=\"url(#clip200)\" d=\"M 0 0 M122.751 967.836 L141.107 967.836 L141.107 971.771 L127.033 971.771 L127.033 980.243 Q128.052 979.896 129.07 979.734 Q130.089 979.549 131.107 979.549 Q136.894 979.549 140.274 982.72 Q143.654 985.891 143.654 991.308 Q143.654 996.887 140.181 999.988 Q136.709 1003.07 130.39 1003.07 Q128.214 1003.07 125.945 1002.7 Q123.7 1002.33 121.293 1001.59 L121.293 996.887 Q123.376 998.021 125.598 998.576 Q127.82 999.132 130.297 999.132 Q134.302 999.132 136.64 997.025 Q138.978 994.919 138.978 991.308 Q138.978 987.697 136.64 985.59 Q134.302 983.484 130.297 983.484 Q128.422 983.484 126.547 983.901 Q124.695 984.317 122.751 985.197 L122.751 967.836 Z\" fill=\"#000000\" fill-rule=\"evenodd\" fill-opacity=\"1\" /><path clip-path=\"url(#clip200)\" d=\"M 0 0 M94.7419 683.89 Q91.1308 683.89 89.3021 687.455 Q87.4966 690.996 87.4966 698.126 Q87.4966 705.232 89.3021 708.797 Q91.1308 712.339 94.7419 712.339 Q98.3761 712.339 100.182 708.797 Q102.01 705.232 102.01 698.126 Q102.01 690.996 100.182 687.455 Q98.3761 683.89 94.7419 683.89 M94.7419 680.186 Q100.552 680.186 103.608 684.793 Q106.686 689.376 106.686 698.126 Q106.686 706.853 103.608 711.459 Q100.552 716.042 94.7419 716.042 Q88.9317 716.042 85.8531 711.459 Q82.7975 706.853 82.7975 698.126 Q82.7975 689.376 85.8531 684.793 Q88.9317 680.186 94.7419 680.186 Z\" fill=\"#000000\" fill-rule=\"evenodd\" fill-opacity=\"1\" /><path clip-path=\"url(#clip200)\" d=\"M 0 0 M111.756 709.491 L116.64 709.491 L116.64 715.371 L111.756 715.371 L111.756 709.491 Z\" fill=\"#000000\" fill-rule=\"evenodd\" fill-opacity=\"1\" /><path clip-path=\"url(#clip200)\" d=\"M 0 0 M131.709 683.89 Q128.098 683.89 126.27 687.455 Q124.464 690.996 124.464 698.126 Q124.464 705.232 126.27 708.797 Q128.098 712.339 131.709 712.339 Q135.344 712.339 137.149 708.797 Q138.978 705.232 138.978 698.126 Q138.978 690.996 137.149 687.455 Q135.344 683.89 131.709 683.89 M131.709 680.186 Q137.519 680.186 140.575 684.793 Q143.654 689.376 143.654 698.126 Q143.654 706.853 140.575 711.459 Q137.519 716.042 131.709 716.042 Q125.899 716.042 122.82 711.459 Q119.765 706.853 119.765 698.126 Q119.765 689.376 122.82 684.793 Q125.899 680.186 131.709 680.186 Z\" fill=\"#000000\" fill-rule=\"evenodd\" fill-opacity=\"1\" /><path clip-path=\"url(#clip200)\" d=\"M 0 0 M95.7373 396.865 Q92.1262 396.865 90.2975 400.43 Q88.4919 403.971 88.4919 411.101 Q88.4919 418.208 90.2975 421.772 Q92.1262 425.314 95.7373 425.314 Q99.3715 425.314 101.177 421.772 Q103.006 418.208 103.006 411.101 Q103.006 403.971 101.177 400.43 Q99.3715 396.865 95.7373 396.865 M95.7373 393.161 Q101.547 393.161 104.603 397.768 Q107.682 402.351 107.682 411.101 Q107.682 419.828 104.603 424.434 Q101.547 429.018 95.7373 429.018 Q89.9271 429.018 86.8484 424.434 Q83.7929 419.828 83.7929 411.101 Q83.7929 402.351 86.8484 397.768 Q89.9271 393.161 95.7373 393.161 Z\" fill=\"#000000\" fill-rule=\"evenodd\" fill-opacity=\"1\" /><path clip-path=\"url(#clip200)\" d=\"M 0 0 M112.751 422.467 L117.635 422.467 L117.635 428.346 L112.751 428.346 L112.751 422.467 Z\" fill=\"#000000\" fill-rule=\"evenodd\" fill-opacity=\"1\" /><path clip-path=\"url(#clip200)\" d=\"M 0 0 M122.751 393.786 L141.107 393.786 L141.107 397.722 L127.033 397.722 L127.033 406.194 Q128.052 405.846 129.07 405.684 Q130.089 405.499 131.107 405.499 Q136.894 405.499 140.274 408.671 Q143.654 411.842 143.654 417.258 Q143.654 422.837 140.181 425.939 Q136.709 429.018 130.39 429.018 Q128.214 429.018 125.945 428.647 Q123.7 428.277 121.293 427.536 L121.293 422.837 Q123.376 423.971 125.598 424.527 Q127.82 425.082 130.297 425.082 Q134.302 425.082 136.64 422.976 Q138.978 420.87 138.978 417.258 Q138.978 413.647 136.64 411.541 Q134.302 409.434 130.297 409.434 Q128.422 409.434 126.547 409.851 Q124.695 410.268 122.751 411.147 L122.751 393.786 Z\" fill=\"#000000\" fill-rule=\"evenodd\" fill-opacity=\"1\" /><path clip-path=\"url(#clip200)\" d=\"M 0 0 M86.779 137.386 L94.4178 137.386 L94.4178 111.021 L86.1077 112.688 L86.1077 108.428 L94.3715 106.762 L99.0474 106.762 L99.0474 137.386 L106.686 137.386 L106.686 141.322 L86.779 141.322 L86.779 137.386 Z\" fill=\"#000000\" fill-rule=\"evenodd\" fill-opacity=\"1\" /><path clip-path=\"url(#clip200)\" d=\"M 0 0 M111.756 135.442 L116.64 135.442 L116.64 141.322 L111.756 141.322 L111.756 135.442 Z\" fill=\"#000000\" fill-rule=\"evenodd\" fill-opacity=\"1\" /><path clip-path=\"url(#clip200)\" d=\"M 0 0 M131.709 109.84 Q128.098 109.84 126.27 113.405 Q124.464 116.947 124.464 124.076 Q124.464 131.183 126.27 134.748 Q128.098 138.289 131.709 138.289 Q135.344 138.289 137.149 134.748 Q138.978 131.183 138.978 124.076 Q138.978 116.947 137.149 113.405 Q135.344 109.84 131.709 109.84 M131.709 106.137 Q137.519 106.137 140.575 110.743 Q143.654 115.326 143.654 124.076 Q143.654 132.803 140.575 137.41 Q137.519 141.993 131.709 141.993 Q125.899 141.993 122.82 137.41 Q119.765 132.803 119.765 124.076 Q119.765 115.326 122.82 110.743 Q125.899 106.137 131.709 106.137 Z\" fill=\"#000000\" fill-rule=\"evenodd\" fill-opacity=\"1\" /><polyline clip-path=\"url(#clip202)\" style=\"stroke:#0000ff; stroke-width:4; stroke-opacity:1; fill:none\" points=\"\n",
       "  241.157,87.9763 261.177,126.934 446.299,465.29 557.55,648.919 651.611,791.959 753.787,933.955 847.985,1051.79 898.48,1109.51 948.975,1163.27 1007.48,1220.4 \n",
       "  1065.98,1271.76 1169.96,1348.02 1261.15,1397.96 1310.85,1418.07 1360.56,1432.88 1410.56,1442.21 1460.56,1445.72 1515.85,1442.49 1571.13,1431.45 1623.73,1413.34 \n",
       "  1676.33,1387.45 1731.03,1351.85 1785.72,1306.99 1831.76,1261.68 1877.8,1209.16 1934.01,1134.81 1990.22,1048.63 2043.06,956.283 2095.9,852.365 2138.22,760.382 \n",
       "  2180.55,660.279 2222.87,551.726 2265.2,434.373 2271.71,415.509 2278.23,396.427 2284.74,377.125 2291.25,357.602 \n",
       "  \"/>\n",
       "<polyline clip-path=\"url(#clip202)\" style=\"stroke:#000000; stroke-width:4; stroke-opacity:1; fill:none\" points=\"\n",
       "  -1993.45,698.091 4525.86,698.091 \n",
       "  \"/>\n",
       "<polyline clip-path=\"url(#clip202)\" style=\"stroke:#000000; stroke-width:4; stroke-opacity:1; fill:none\" stroke-dasharray=\"2, 4\" points=\"\n",
       "  1009.94,698.091 1009.94,1222.68 \n",
       "  \"/>\n",
       "<polyline clip-path=\"url(#clip202)\" style=\"stroke:#ff0000; stroke-width:4; stroke-opacity:1; fill:none\" points=\"\n",
       "  442.09,698.091 1009.94,1222.68 \n",
       "  \"/>\n",
       "<circle clip-path=\"url(#clip202)\" cx=\"1009.94\" cy=\"1222.68\" r=\"14\" fill=\"#0000ff\" fill-rule=\"evenodd\" fill-opacity=\"1\" stroke=\"#000000\" stroke-opacity=\"1\" stroke-width=\"3.2\"/>\n",
       "<polyline clip-path=\"url(#clip202)\" style=\"stroke:#000000; stroke-width:4; stroke-opacity:1; fill:none\" stroke-dasharray=\"2, 4\" points=\"\n",
       "  442.09,698.091 442.09,458.044 \n",
       "  \"/>\n",
       "<polyline clip-path=\"url(#clip202)\" style=\"stroke:#ff0000; stroke-width:4; stroke-opacity:1; fill:none\" points=\"\n",
       "  581.345,698.091 442.09,458.044 \n",
       "  \"/>\n",
       "<circle clip-path=\"url(#clip202)\" cx=\"442.09\" cy=\"458.044\" r=\"14\" fill=\"#0000ff\" fill-rule=\"evenodd\" fill-opacity=\"1\" stroke=\"#000000\" stroke-opacity=\"1\" stroke-width=\"3.2\"/>\n",
       "<polyline clip-path=\"url(#clip202)\" style=\"stroke:#000000; stroke-width:4; stroke-opacity:1; fill:none\" stroke-dasharray=\"2, 4\" points=\"\n",
       "  581.345,698.091 581.345,686.186 \n",
       "  \"/>\n",
       "<polyline clip-path=\"url(#clip202)\" style=\"stroke:#ff0000; stroke-width:4; stroke-opacity:1; fill:none\" points=\"\n",
       "  589.021,698.091 581.345,686.186 \n",
       "  \"/>\n",
       "<circle clip-path=\"url(#clip202)\" cx=\"581.345\" cy=\"686.186\" r=\"14\" fill=\"#0000ff\" fill-rule=\"evenodd\" fill-opacity=\"1\" stroke=\"#000000\" stroke-opacity=\"1\" stroke-width=\"3.2\"/>\n",
       "<polyline clip-path=\"url(#clip202)\" style=\"stroke:#000000; stroke-width:4; stroke-opacity:1; fill:none\" stroke-dasharray=\"2, 4\" points=\"\n",
       "  589.021,698.091 589.021,698.053 \n",
       "  \"/>\n",
       "<polyline clip-path=\"url(#clip202)\" style=\"stroke:#ff0000; stroke-width:4; stroke-opacity:1; fill:none\" points=\"\n",
       "  589.045,698.091 589.021,698.053 \n",
       "  \"/>\n",
       "<circle clip-path=\"url(#clip202)\" cx=\"589.021\" cy=\"698.053\" r=\"14\" fill=\"#0000ff\" fill-rule=\"evenodd\" fill-opacity=\"1\" stroke=\"#000000\" stroke-opacity=\"1\" stroke-width=\"3.2\"/>\n",
       "<polyline clip-path=\"url(#clip202)\" style=\"stroke:#000000; stroke-width:4; stroke-opacity:1; fill:none\" stroke-dasharray=\"2, 4\" points=\"\n",
       "  589.045,698.091 589.045,698.091 \n",
       "  \"/>\n",
       "<polyline clip-path=\"url(#clip202)\" style=\"stroke:#ff0000; stroke-width:4; stroke-opacity:1; fill:none\" points=\"\n",
       "  589.045,698.091 589.045,698.091 \n",
       "  \"/>\n",
       "<circle clip-path=\"url(#clip202)\" cx=\"589.045\" cy=\"698.091\" r=\"14\" fill=\"#0000ff\" fill-rule=\"evenodd\" fill-opacity=\"1\" stroke=\"#000000\" stroke-opacity=\"1\" stroke-width=\"3.2\"/>\n",
       "</svg>\n"
      ]
     },
     "metadata": {},
     "output_type": "display_data"
    },
    {
     "data": {
      "text/plain": [
       "2.3575510538774016"
      ]
     },
     "execution_count": 3,
     "metadata": {},
     "output_type": "execute_result"
    }
   ],
   "source": [
    "x = plotnewton(\n",
    "    x -> 2cosh(x/4) - x,  # f(x)\n",
    "    x -> .5sinh(x/4) - 1, # f'(x)\n",
    "    4.0, 1, 9)"
   ]
  },
  {
   "cell_type": "markdown",
   "metadata": {},
   "source": [
    "---"
   ]
  },
  {
   "cell_type": "markdown",
   "metadata": {},
   "source": [
    "## Example (The Babylonian method for computing $\\sqrt{a}$)\n",
    "\n",
    "Let $f(x) = x^2 - a$. Newton's method gives us the iteration:\n",
    "\n",
    "$$ x_{k+1} = x_k - \\frac{x_k^2 - a}{2x_k} = \\frac{1}{2}\\left(x_k + \\frac{a}{x_k}\\right).$$\n",
    "\n",
    "This is known as the [Babylonian method](http://en.wikipedia.org/wiki/Methods_of_computing_square_roots#Babylonian_method) for computing square roots. This method only requires addition and division, and converges rapidly."
   ]
  },
  {
   "cell_type": "code",
   "execution_count": null,
   "metadata": {},
   "outputs": [],
   "source": [
    "# Let's do this using BigFloat\n",
    "\n",
    "setprecision(256)\n",
    "a = big\"10.\"\n",
    "x = a\n",
    "@printf \"%4s %10s\\n\" \"k\" \"|xk - √a|\"\n",
    "for k = 1:8\n",
    "    x = (x + a/x)/2\n",
    "    @printf \"%4d %10.1e\\n\" k abs(x - sqrt(a))\n",
    "end"
   ]
  },
  {
   "cell_type": "code",
   "execution_count": null,
   "metadata": {},
   "outputs": [],
   "source": [
    "x"
   ]
  },
  {
   "cell_type": "code",
   "execution_count": null,
   "metadata": {},
   "outputs": [],
   "source": [
    "sqrt(10.0)"
   ]
  },
  {
   "cell_type": "markdown",
   "metadata": {},
   "source": [
    "---"
   ]
  },
  {
   "cell_type": "markdown",
   "metadata": {},
   "source": [
    "## Speed of Convergence\n",
    "\n",
    "If $x_k \\to x^*$, we can measure the speed of the convergence as follows.\n",
    "\n",
    "- **Linear convergence** means there is a constant $0 < \\rho < 1$ such that\n",
    "\n",
    "  $$\\left|x_{k+1}-x^*\\right| \\leq \\rho \\left|x_k - x^*\\right|, \\quad \\text{for all $k$ sufficiently large};$$\n",
    "  \n",
    "  that is,\n",
    "  \n",
    "  $$ \\lim_{k \\to \\infty} \\frac{\\left|x_{k+1}-x^*\\right|}{\\left|x_k - x^*\\right|} = \\rho < 1.$$\n",
    "  \n",
    "\n",
    "- **Superlinear convergence** means there is a sequence $\\rho_k \\to 0$ such that\n",
    "\n",
    "  $$\\left|x_{k+1}-x^*\\right| \\leq \\rho_k \\left|x_k - x^*\\right|, \\quad \\text{for all $k$ sufficiently large};$$\n",
    "\n",
    "  that is,\n",
    "  \n",
    "  $$ \\lim_{k \\to \\infty} \\frac{\\left|x_{k+1}-x^*\\right|}{\\left|x_k - x^*\\right|} = 0.$$\n",
    "  \n",
    "\n",
    "- **Quadratic convergence** means there is a constant $M$ such that\n",
    "\n",
    "  $$\\left|x_{k+1}-x^*\\right| \\leq M \\left|x_k - x^*\\right|^2, \\quad \\text{for all $k$ sufficiently large};$$\n",
    "  \n",
    "  that is,\n",
    "  \n",
    "  $$ \\lim_{k \\to \\infty} \\frac{\\left|x_{k+1}-x^*\\right|}{\\left|x_k - x^*\\right|^2} = M < \\infty.$$\n",
    "\n",
    "\n",
    "Note that **quadratic convergence** is an example of **superlinear convergence** with $\\rho_k = M \\left|x_k - x^*\\right|$."
   ]
  },
  {
   "cell_type": "markdown",
   "metadata": {},
   "source": [
    "---"
   ]
  },
  {
   "cell_type": "markdown",
   "metadata": {},
   "source": [
    "> ## Theorem (Quadratic convergence of Newton's Method):\n",
    "Let $f \\in C^2[a,b]$. If $f$ has a root $x^* \\in (a,b)$ such that $f'(x^*) \\neq 0$, then there is a $\\delta > 0$ such that Newton's method **converges quadratically** to $x^*$ from any $x_0 \\in [x^*-\\delta, x^*+\\delta]$."
   ]
  },
  {
   "cell_type": "markdown",
   "metadata": {},
   "source": [
    "## Proof:\n",
    "\n",
    "Since:\n",
    "\n",
    "- $f \\in C^2[a,b]$ \n",
    "- $x^* \\in (a,b)$\n",
    "- $f'(x^*) \\neq 0$\n",
    "\n",
    "there are positive constants $\\delta_1$, $\\varepsilon$, and $M$ such that\n",
    "\n",
    "- $\\left|f'(x)\\right| \\geq \\varepsilon$ \n",
    "- $\\left|f''(x)\\right| \\leq M$\n",
    "\n",
    "for all $x \\in [x^*-\\delta_1, x^*+\\delta_1] \\subset (a,b)$."
   ]
  },
  {
   "cell_type": "markdown",
   "metadata": {},
   "source": [
    "Suppose $x_k \\in [x^*-\\delta_1, x^*+\\delta_1]$. Then, there is a $\\xi_k$ between $x^*$ and $x_k$ such that\n",
    "\n",
    "$$ f(x^*) = f(x_k) + f'(x_k) (x^* - x_k) + \\frac{f''(\\xi_k)}{2} (x^* - x_k)^2.$$\n",
    "\n",
    "Using the fact that $f(x^*) = 0$ and $f'(x_k) \\neq 0$, we can rearrange this equation to get\n",
    "\n",
    "$$ -\\frac{f(x_k)}{f'(x_k)} - x^* + x_k =  \\frac{f''(\\xi_k)}{2f'(x_k)} (x^* - x_k)^2.$$\n",
    "\n",
    "Since $x_{k+1} = x_k - f(x_k)\\big/f'(x_k)$, we have \n",
    "\n",
    "$$x^* - x_{k+1} = -\\frac{f''(\\xi_k)}{2f'(x_k)} (x^* - x_k)^2.$$\n",
    "\n",
    "Thus,\n",
    "\n",
    "$$\\left|x^* - x_{k+1}\\right| = \\left|\\frac{f''(\\xi_k)}{2f'(x_k)}\\right| \\left|x^* - x_k\\right|^2 \\leq \\frac{M}{2\\varepsilon} \\left|x^* - x_k\\right|^2,$$\n",
    "\n",
    "so if $x_k \\to x^*$, then the **convergence will be quadratic**."
   ]
  },
  {
   "cell_type": "markdown",
   "metadata": {},
   "source": [
    "We just need to find $\\delta > 0$ so that if $x_0 \\in [x^* - \\delta, x^* + \\delta]$, then $x_k \\to x^*$.\n",
    "\n",
    "Let $\\lambda \\in (0, 1)$ and let\n",
    "\n",
    "$$\\delta = \\min\\left\\{\\frac{2\\varepsilon\\lambda}{M}, \\delta_1\\right\\}.$$\n",
    "\n",
    "Suppose that $x_k \\in [x^* - \\delta, x^* + \\delta]$. Then\n",
    "\n",
    "$$\n",
    "\\begin{split}\n",
    "\\left|x^* - x_{k+1}\\right| \n",
    "&\\leq \\frac{M}{2\\varepsilon} \\left|x^* - x_k\\right|^2 \\\\\n",
    "&\\leq \\frac{M}{2\\varepsilon} \\delta \\left|x^* - x_k\\right| \\\\\n",
    "&\\leq \\lambda \\left|x^* - x_k\\right| \\\\\n",
    "&< \\delta,\n",
    "\\end{split}\n",
    "$$\n",
    "\n",
    "so $x_{k+1} \\in [x^* - \\delta, x^* + \\delta]$ as well. Thus, if $x_0 \\in [x^* - \\delta, x^* + \\delta]$, we have $x_k \\in [x^* - \\delta, x^* + \\delta]$ for $k = 0, 1, 2, \\ldots$. "
   ]
  },
  {
   "cell_type": "markdown",
   "metadata": {},
   "source": [
    "Moreover,\n",
    "\n",
    "$$0 \\leq \\left|x^* - x_k\\right| \\leq \\lambda \\left|x^* - x_{k-1}\\right| \\leq \\lambda^2 \\left|x^* - x_{k-2}\\right| \\leq \\cdots \\leq \\lambda^k \\left|x^* - x_{0}\\right|.$$\n",
    "\n",
    "Since $\\lambda \\in (0,1)$, we have $\\lambda^k \\left|x^* - x_{0}\\right| \\to 0$ as $k \\to \\infty$. Thus, if $x_0 \\in [x^* - \\delta, x^* + \\delta]$ then $x_k$ converges to $x^*$ quadratically. $\\blacksquare$"
   ]
  },
  {
   "cell_type": "markdown",
   "metadata": {},
   "source": [
    "---"
   ]
  },
  {
   "cell_type": "markdown",
   "metadata": {},
   "source": [
    "## Pros and cons of Newton's method\n",
    "\n",
    "Pros:\n",
    "\n",
    "1. **Fast to converge:** Newton's method enjoys quadratic convergence near the root when $f'(x^*) \\neq 0$.\n",
    "\n",
    "2. **Generalizes to multiple variables:** Let $\\mathbf{F} \\colon \\mathbb{R}^n \\to \\mathbb{R}^n$. Newton's method for solving \n",
    "   \n",
    "   $$\\mathbf{F}(\\mathbf{x}) = \\mathbf{0}$$ \n",
    "   \n",
    "   (i.e., $n$ nonlinear equations with $n$ unknowns) is\n",
    "\n",
    "   $$ \\mathbf{x}_{k+1} = \\mathbf{x}_k - \\mathbf{J}(\\mathbf{x}_k)^{-1} \\mathbf{F}(\\mathbf{x}_k),$$\n",
    "\n",
    "   where $\\mathbf{J}(\\mathbf{x})$ is the $n \\times n$ **Jacobian** of $\\mathbf{F}$:\n",
    "   \n",
    "   $$\n",
    "   \\mathbf{J}(\\mathbf{x}) = \n",
    "   \\begin{bmatrix}\n",
    "   \\frac{\\partial F_1}{\\partial x_1}& \\cdots &\n",
    "   \\frac{\\partial F_1}{\\partial x_n}\\\\\n",
    "   \\vdots & \\ddots & \\vdots \\\\\n",
    "   \\frac{\\partial F_n}{\\partial x_1}& \\cdots &\n",
    "   \\frac{\\partial F_n}{\\partial x_n}\\\\\n",
    "   \\end{bmatrix}$$\n",
    "\n",
    "\n",
    "Cons:\n",
    "\n",
    "1. **Requires the derivative:** We must give Newton's method both the function $f$ and its derivative $f'$. This may not always be possible or easy.\n",
    "\n",
    "2. **Need to start close to $x^*$:** Newton's method is a **local method**. When $x_0$ is far from $x^*$, Newton's method may not converge to $x^*$, or may require many iterations before quadratic convergence begins.\n"
   ]
  },
  {
   "cell_type": "markdown",
   "metadata": {},
   "source": [
    "---"
   ]
  },
  {
   "cell_type": "markdown",
   "metadata": {},
   "source": [
    "## Secant method\n",
    "\n",
    "Sometimes it is not possible to evaluate the derivative $f'$:\n",
    "\n",
    "- $f'$ is unknown or difficult to obtain\n",
    "- evaluating $f'$ takes too much time\n",
    "\n",
    "Instead, we can use the **secant approximation** of the derivative. When $x_k \\approx x_{k-1}$, we have\n",
    "\n",
    "$$ f'(x_k) \\approx \\frac{f(x_k) - f(x_{k-1})}{x_k - x_{k-1}}.$$\n",
    "\n",
    "Plugging this approximation into the formula for Newton's method, we get:\n",
    "\n",
    "$$x_{k+1} = x_k - \\frac{f(x_k)(x_k - x_{k-1})}{f(x_k) - f(x_{k-1})}$$\n",
    "\n",
    "The secant method is an example of a [quasi-Newton](http://en.wikipedia.org/wiki/Quasi-Newton_method) method since we are replacing $f'$ with an approximation of $f'$.\n",
    "\n",
    "When $f'(x^*) \\neq 0$, the secant method will converge **superlinearly**, so it may not be as fast as Newton's method."
   ]
  },
  {
   "cell_type": "markdown",
   "metadata": {},
   "source": [
    "---"
   ]
  },
  {
   "cell_type": "markdown",
   "metadata": {},
   "source": [
    "## An implementation of the secant method: `plotsecant`"
   ]
  },
  {
   "cell_type": "code",
   "execution_count": null,
   "metadata": {},
   "outputs": [],
   "source": [
    "using Plots, Printf\n",
    "\n",
    "function plotsecant(f, x0, x1, a, b; tol=1e-6, maxiter=10, doplot=true)\n",
    "    \n",
    "    if doplot\n",
    "        plt = plot(f, a, b, color=:blue, label=:none)\n",
    "        hline!([0], color=:black, label=:none)\n",
    "    end\n",
    "    \n",
    "    k = 0\n",
    "    xprev = x0\n",
    "    x = x1\n",
    "    fxprev = f(xprev)\n",
    "    fx = f(x)\n",
    "    \n",
    "    if doplot\n",
    "        plot!([xprev, xprev], [0, fxprev], ls=:dot, c=:black, label=:none)\n",
    "        scatter!([xprev], [fxprev], c=:blue, label=:none)\n",
    "    end\n",
    "    \n",
    "    @printf \"%4s %22s %22s\\n\" \"k\" \"x\" \"f(x)\"\n",
    "    while abs(x - xprev) > tol*(1 + abs(x)) && k < maxiter\n",
    "        k += 1\n",
    "        xnew = x - fx*(x - xprev)/(fx - fxprev)\n",
    "        \n",
    "        # Plotting stuff\n",
    "        if doplot\n",
    "            plot!([x, x], [0, fx], ls=:dot, c=:black, label=:none)\n",
    "            plot!([xnew, xprev, x], [0, fxprev, fx], c=:red, label=:none)\n",
    "            scatter!([xprev], [fxprev], c=:blue, label=:none)\n",
    "        end\n",
    "        \n",
    "        xprev = x\n",
    "        x = xnew\n",
    "        fxprev = f(xprev)\n",
    "        fx = f(x)\n",
    "        @printf \"%4d %22.15e %22.15e\\n\" k x fx\n",
    "    end\n",
    "    flush(stdout)\n",
    "    if doplot\n",
    "        display(plt)\n",
    "    end\n",
    "    \n",
    "    return x\n",
    "end"
   ]
  },
  {
   "cell_type": "markdown",
   "metadata": {},
   "source": [
    "---"
   ]
  },
  {
   "cell_type": "markdown",
   "metadata": {},
   "source": [
    "## Example\n",
    "\n",
    "Let's see how the secant method works on $f(x) = \\sin(x)$."
   ]
  },
  {
   "cell_type": "code",
   "execution_count": null,
   "metadata": {},
   "outputs": [],
   "source": [
    "x = plotsecant(sin, 1.0, 4.3, 0, 2π, maxiter=100)"
   ]
  },
  {
   "cell_type": "code",
   "execution_count": null,
   "metadata": {},
   "outputs": [],
   "source": [
    "abs(x - pi)"
   ]
  },
  {
   "cell_type": "markdown",
   "metadata": {},
   "source": [
    "---"
   ]
  },
  {
   "cell_type": "markdown",
   "metadata": {},
   "source": [
    "## Example\n",
    "\n",
    "Recall the example of finding the value of $y_0$ such that the solution $y(t)$ of the ordinary differential equation \n",
    "\n",
    "$$\n",
    "\\frac{dy}{dt} = t - 5 + \\frac{y^2}{100}\n",
    "$$\n",
    "\n",
    "with initial value $y(0) = y_0$ satisfies $y(10) = 20$."
   ]
  },
  {
   "cell_type": "code",
   "execution_count": null,
   "metadata": {},
   "outputs": [],
   "source": [
    "using OrdinaryDiffEq\n",
    "\n",
    "F(y, p, t) = t - 5 + y^2/100\n",
    "\n",
    "function foo(y0)\n",
    "    tspan = (0.0, 10.0)\n",
    "    prob = ODEProblem(F, y0, tspan)\n",
    "    sol = solve(prob, Tsit5())\n",
    "    return sol(10.0)\n",
    "end"
   ]
  },
  {
   "cell_type": "code",
   "execution_count": null,
   "metadata": {},
   "outputs": [],
   "source": [
    "foo(10.0)"
   ]
  },
  {
   "cell_type": "code",
   "execution_count": null,
   "metadata": {},
   "outputs": [],
   "source": [
    "foo(15.0)"
   ]
  },
  {
   "cell_type": "code",
   "execution_count": null,
   "metadata": {},
   "outputs": [],
   "source": [
    "x = plotsecant(y0 -> foo(y0) - 20, 10.0, 15.0, 10, 15, tol=1e-10)"
   ]
  },
  {
   "cell_type": "code",
   "execution_count": null,
   "metadata": {},
   "outputs": [],
   "source": [
    "foo(x)"
   ]
  },
  {
   "cell_type": "markdown",
   "metadata": {},
   "source": [
    "---"
   ]
  },
  {
   "cell_type": "markdown",
   "metadata": {},
   "source": [
    "## The case of a multiple root\n",
    "\n",
    "When $f'(x^*) = 0$, we are no longer guaranteed to obtain superlinear convergence of the secant method, nor quadratic convergence of Newton's method. In this case, both methods will be merely **linearly convergent**.\n",
    "\n",
    "Let's try these methods on the function\n",
    "\n",
    "$$f(x) = x^2$$\n",
    "\n",
    "for which $x^* = 0$ is a root of **multiplicity** 2."
   ]
  },
  {
   "cell_type": "code",
   "execution_count": null,
   "metadata": {
    "scrolled": false
   },
   "outputs": [],
   "source": [
    "x = plotnewton(x -> x^2, x -> 2x, 4.0, -1, 5, maxiter=100)"
   ]
  },
  {
   "cell_type": "code",
   "execution_count": null,
   "metadata": {
    "scrolled": false
   },
   "outputs": [],
   "source": [
    "x = plotsecant(x -> x^2, 4.0, 3.0, -1, 5, maxiter=100)"
   ]
  },
  {
   "cell_type": "markdown",
   "metadata": {},
   "source": [
    "---"
   ]
  }
 ],
 "metadata": {
  "kernelspec": {
   "display_name": "Julia 1.5.3",
   "language": "julia",
   "name": "julia-1.5"
  },
  "language_info": {
   "file_extension": ".jl",
   "mimetype": "application/julia",
   "name": "julia",
   "version": "1.5.3"
  }
 },
 "nbformat": 4,
 "nbformat_minor": 1
}
